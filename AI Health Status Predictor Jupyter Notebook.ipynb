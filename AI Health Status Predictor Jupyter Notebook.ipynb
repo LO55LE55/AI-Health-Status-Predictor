{
 "cells": [
  {
   "cell_type": "markdown",
   "id": "3050798a",
   "metadata": {},
   "source": [
    "# AI Health Status Predictor\n",
    "\n",
    "This notebook is going to walk you through the complete implementation of the AI Health Status Predictor project by the DataVisionaries team."
   ]
  },
  {
   "cell_type": "markdown",
   "id": "978bb3ed",
   "metadata": {},
   "source": [
    "## Importing Required Libraries"
   ]
  },
  {
   "cell_type": "code",
   "execution_count": null,
   "id": "d8331880",
   "metadata": {},
   "outputs": [],
   "source": [
    "import pandas as pd\n",
    "import numpy as np\n",
    "import datetime\n",
    "import os\n",
    "import time\n",
    "\n",
    "import tkinter as tk\n",
    "from tkinter import ttk, messagebox\n",
    "\n",
    "import tensorflow as tf\n",
    "from tensorflow.keras.models import Sequential\n",
    "from tensorflow.keras.layers import Conv1D, MaxPooling1D, Flatten, Dense, Dropout\n",
    "from tensorflow.keras.callbacks import EarlyStopping\n",
    "\n",
    "from sklearn.model_selection import train_test_split\n",
    "from sklearn.preprocessing import StandardScaler, LabelEncoder\n",
    "from sklearn.metrics import classification_report"
   ]
  },
  {
   "cell_type": "markdown",
   "id": "e09e68f1",
   "metadata": {},
   "source": [
    "## Health Condition Profiles"
   ]
  },
  {
   "cell_type": "code",
   "execution_count": null,
   "id": "b458f87c",
   "metadata": {},
   "outputs": [],
   "source": [
    "PATIENT_PROFILES = {\n",
    "    'Healthy': {'temp': 36.8, 'sbp': 115, 'dbp': 75, 'hr': 70, 'std': {'temp':0.2,'sbp':5,'dbp':4,'hr':6}},\n",
    "    'Fever': {'temp': 38.5, 'sbp': 125, 'dbp': 85, 'hr': 105, 'std': {'temp':0.3,'sbp':6,'dbp':5,'hr':8}},\n",
    "    'Hypertension': {'temp': 36.8, 'sbp': 145, 'dbp': 95, 'hr': 75, 'std': {'temp':0.2,'sbp':7,'dbp':6,'hr':6}},\n",
    "    'Hypotension': {'temp': 36.5, 'sbp': 85, 'dbp': 55, 'hr': 65, 'std': {'temp':0.2,'sbp':5,'dbp':4,'hr':5}},\n",
    "    'Tachycardia': {'temp': 37.0, 'sbp': 120, 'dbp': 80, 'hr': 110, 'std': {'temp':0.2,'sbp':5,'dbp':4,'hr':7}},\n",
    "    'Bradycardia': {'temp': 36.6, 'sbp': 110, 'dbp': 70, 'hr': 50, 'std': {'temp':0.2,'sbp':5,'dbp':4,'hr':5}},\n",
    "    'Hypertension_with_Tachycardia': {'temp': 37.1, 'sbp': 150, 'dbp': 98, 'hr': 115, 'std': {'temp':0.3,'sbp':6,'dbp':5,'hr':8}},\n",
    "    'Hypertension_with_Bradycardia': {'temp': 36.7, 'sbp': 148, 'dbp': 92, 'hr': 52, 'std': {'temp':0.2,'sbp':6,'dbp':5,'hr':5}},\n",
    "    'Hypertension_with_Fever': {'temp': 38.2, 'sbp': 142, 'dbp': 93, 'hr': 98, 'std': {'temp':0.3,'sbp':6,'dbp':5,'hr':7}},\n",
    "    'Hypotension_with_Tachycardia': {'temp': 36.6, 'sbp': 82, 'dbp': 52, 'hr': 112, 'std': {'temp':0.2,'sbp':5,'dbp':4,'hr':7}},\n",
    "    'Hypotension_with_Bradycardia': {'temp': 36.4, 'sbp': 80, 'dbp': 50, 'hr': 48, 'std': {'temp':0.2,'sbp':5,'dbp':4,'hr':5}},\n",
    "    'Hypotension_with_Fever': {'temp': 38.0, 'sbp': 88, 'dbp': 58, 'hr': 100, 'std': {'temp':0.3,'sbp':5,'dbp':4,'hr':7}},\n",
    "    'Tachycardia_with_Fever': {'temp': 38.5, 'sbp': 125, 'dbp': 85, 'hr': 115, 'std': {'temp':0.3,'sbp':5,'dbp':4,'hr':8}},\n",
    "    'Bradycardia_with_Hypothermia': {'temp': 34.8, 'sbp': 105, 'dbp': 65, 'hr': 45, 'std': {'temp':0.2,'sbp':5,'dbp':4,'hr':5}}\n",
    "}"
   ]
  },
  {
   "cell_type": "markdown",
   "id": "9612f978",
   "metadata": {},
   "source": [
    "## Function to Generate Synthetic Patient Data"
   ]
  },
  {
   "cell_type": "code",
   "execution_count": null,
   "id": "e4e79af6",
   "metadata": {},
   "outputs": [],
   "source": [
    "\n",
    "def generate_patient_data(patient_id, profile_name):\n",
    "    profile = PATIENT_PROFILES[profile_name]\n",
    "    num_readings = 48 * 6\n",
    "\n",
    "    base_temp = np.random.normal(profile['temp'], profile['std']['temp'])\n",
    "    base_sbp  = np.random.normal(profile['sbp'], profile['std']['sbp'])\n",
    "    base_dbp  = np.random.normal(profile['dbp'], profile['std']['dbp'])\n",
    "    base_hr   = np.random.normal(profile['hr'], profile['std']['hr'])\n",
    "\n",
    "    time_hours = np.arange(num_readings) / 6\n",
    "    circadian = np.sin(2 * np.pi * time_hours / 24)\n",
    "\n",
    "    temps = np.random.normal(base_temp, 0.3, num_readings) + 0.2 * circadian\n",
    "    sbps  = np.random.normal(base_sbp, 5, num_readings) + 1.5 * circadian\n",
    "    dbps  = np.random.normal(base_dbp, 4, num_readings) + 1.0 * circadian\n",
    "    hrs   = np.random.normal(base_hr, 6, num_readings) + 4 * circadian\n",
    "\n",
    "    drift = np.linspace(0, np.random.normal(0, 0.5), num_readings)\n",
    "    temps += 0.1 * drift\n",
    "    sbps  += 0.2 * drift\n",
    "    dbps  += 0.1 * drift\n",
    "    hrs   += 0.3 * drift\n",
    "\n",
    "    for arr in [temps, sbps, dbps, hrs]:\n",
    "        for i in range(num_readings):\n",
    "            if np.random.rand() < 0.005:\n",
    "                arr[i] += np.random.randint(-15, 15)\n",
    "\n",
    "    start_time = datetime.datetime.now().replace(hour=0, minute=0, second=0, microsecond=0)\n",
    "    timestamps = [start_time + datetime.timedelta(minutes=10*i) for i in range(num_readings)]\n",
    "\n",
    "    patient_df = pd.DataFrame({\n",
    "        'Patient_ID': patient_id,\n",
    "        'Timestamp': timestamps,\n",
    "        'Temperature_C': np.round(temps, 2),\n",
    "        'Systolic_BP_mmHg': np.round(sbps).astype(int),\n",
    "        'Diastolic_BP_mmHg': np.round(dbps).astype(int),\n",
    "        'Heart_Rate_bpm': np.round(hrs).astype(int),\n",
    "        'Health_Profile': profile_name\n",
    "    })\n",
    "    return patient_df\n"
   ]
  },
  {
   "cell_type": "markdown",
   "id": "bf298b4b",
   "metadata": {},
   "source": [
    "## Generate or Load the Dataset"
   ]
  },
  {
   "cell_type": "code",
   "execution_count": null,
   "id": "808e55ac",
   "metadata": {},
   "outputs": [],
   "source": [
    "\n",
    "output_filename = \"data.csv\"\n",
    "total_patients = 15000\n",
    "\n",
    "if not os.path.exists(output_filename):\n",
    "    print(\"Generating synthetic dataset...\")\n",
    "    start_time_gen = time.time()\n",
    "    all_patient_data = []\n",
    "    profile_names = list(PATIENT_PROFILES.keys())\n",
    "    for i in range(total_patients):\n",
    "        random_profile_name = np.random.choice(profile_names)\n",
    "        patient_df = generate_patient_data(i+1, random_profile_name)\n",
    "        all_patient_data.append(patient_df)\n",
    "        if (i+1) % 1000 == 0:\n",
    "            print(f\"  ...{i+1}/{total_patients} patients generated.\")\n",
    "    final_dataset = pd.concat(all_patient_data, ignore_index=True)\n",
    "    final_dataset.to_csv(output_filename, index=False)\n",
    "    print(f\"Dataset saved to '{output_filename}' in {time.time() - start_time_gen:.2f} seconds.\")\n",
    "else:\n",
    "    print(f\"Found existing dataset '{output_filename}'.\")\n"
   ]
  },
  {
   "cell_type": "markdown",
   "id": "e56c1b38",
   "metadata": {},
   "source": [
    "## Load and Preprocess the Dataset"
   ]
  },
  {
   "cell_type": "code",
   "execution_count": null,
   "id": "6a576e28",
   "metadata": {},
   "outputs": [],
   "source": [
    "\n",
    "df = pd.read_csv(output_filename)\n",
    "label_encoder = LabelEncoder()\n",
    "df['Profile_Encoded'] = label_encoder.fit_transform(df['Health_Profile'])\n",
    "class_names = list(label_encoder.classes_)\n",
    "num_classes = len(class_names)\n",
    "target_col = 'Profile_Encoded'\n",
    "\n",
    "df = df.drop(columns=['Patient_ID','Timestamp','Health_Profile'])\n",
    "\n",
    "feature_cols = ['Temperature_C','Systolic_BP_mmHg','Diastolic_BP_mmHg','Heart_Rate_bpm']\n",
    "X = df[feature_cols].values\n",
    "y = df[target_col].values\n",
    "\n",
    "scaler = StandardScaler()\n",
    "X_scaled = scaler.fit_transform(X)\n",
    "\n",
    "num_patients = len(df)//(48*6)\n",
    "timesteps_per_patient = 48*6\n",
    "num_features = len(feature_cols)\n",
    "X_reshaped = X_scaled.reshape(num_patients, timesteps_per_patient, num_features)\n",
    "y_reshaped = y[::timesteps_per_patient]\n"
   ]
  },
  {
   "cell_type": "markdown",
   "id": "116e67a9",
   "metadata": {},
   "source": [
    "## Train-Test Split"
   ]
  },
  {
   "cell_type": "code",
   "execution_count": null,
   "id": "29fde440",
   "metadata": {},
   "outputs": [],
   "source": [
    "\n",
    "X_train, X_test, y_train, y_test = train_test_split(\n",
    "    X_reshaped, y_reshaped, test_size=0.2, random_state=42, stratify=y_reshaped # Same state so we can reproduce results.\n",
    ")\n"
   ]
  },
  {
   "cell_type": "markdown",
   "id": "e152825e",
   "metadata": {},
   "source": [
    "## Define the 1D CNN Model"
   ]
  },
  {
   "cell_type": "code",
   "execution_count": null,
   "id": "a32a9517",
   "metadata": {},
   "outputs": [],
   "source": [
    "\n",
    "model = Sequential([\n",
    "    tf.keras.Input(shape=(timesteps_per_patient, num_features)),\n",
    "    Conv1D(64, 6, activation='relu'),\n",
    "    MaxPooling1D(2),\n",
    "    Dropout(0.3),\n",
    "    Conv1D(128, 6, activation='relu'),\n",
    "    MaxPooling1D(2),\n",
    "    Dropout(0.3),\n",
    "    Flatten(),\n",
    "    Dense(128, activation='relu'),\n",
    "    Dense(num_classes, activation='softmax')\n",
    "])\n",
    "model.compile(optimizer='adam', loss='sparse_categorical_crossentropy', metrics=['accuracy'])\n",
    "model.summary()\n"
   ]
  },
  {
   "cell_type": "markdown",
   "id": "3dff6693",
   "metadata": {},
   "source": [
    "## Train the Model (with early stoppage to prevent overfitting)"
   ]
  },
  {
   "cell_type": "code",
   "execution_count": null,
   "id": "2f953fcf",
   "metadata": {},
   "outputs": [],
   "source": [
    "\n",
    "early_stop = EarlyStopping(monitor='val_loss', patience=15, restore_best_weights=True)\n",
    "history = model.fit(X_train, y_train, epochs=150, batch_size=64, validation_split=0.2, verbose=1, callbacks=[early_stop])\n"
   ]
  },
  {
   "cell_type": "markdown",
   "id": "60a9b471",
   "metadata": {},
   "source": [
    "## Evaluate the Model"
   ]
  },
  {
   "cell_type": "code",
   "execution_count": null,
   "id": "fc7d4260",
   "metadata": {},
   "outputs": [],
   "source": [
    "\n",
    "loss, accuracy = model.evaluate(X_test, y_test, verbose=0)\n",
    "y_pred = model.predict(X_test)\n",
    "y_pred_classes = np.argmax(y_pred, axis=1)\n",
    "per_class_report = classification_report(y_test, y_pred_classes, target_names=class_names, digits=3)\n",
    "\n",
    "print(f\"Overall Test Accuracy: {accuracy:.2%}\\n\")\n",
    "print(\"Per-Class Accuracy Report:\")\n",
    "print(per_class_report)\n"
   ]
  },
  {
   "cell_type": "markdown",
   "id": "85a0ad75",
   "metadata": {},
   "source": [
    "## Generate and Simulate Patient Vitals and Predict via Model (for Tkinter GUI Use)"
   ]
  },
  {
   "cell_type": "code",
   "execution_count": null,
   "id": "dc1444a4",
   "metadata": {},
   "outputs": [],
   "source": [
    "\n",
    "UI_PROFILES = {k.replace('_',' '):v for k,v in PATIENT_PROFILES.items()}\n",
    "\n",
    "generated_data_for_prediction = None\n",
    "\n",
    "def generate_vitals_from_profile():\n",
    "    global generated_data_for_prediction\n",
    "    profile_name = profile_combobox.get()\n",
    "    if not profile_name:\n",
    "        messagebox.showerror(\"Input Error\",\"Please select a patient profile first.\")\n",
    "        return\n",
    "    profile = UI_PROFILES[profile_name]\n",
    "    num_readings = 24 * 6\n",
    "    std_devs = {'temp': 0.25, 'sbp': 7, 'dbp': 5, 'hr': 10}\n",
    "    temps = np.random.normal(profile['temp'], std_devs['temp'], num_readings)\n",
    "    sbps  = np.random.normal(profile['sbp'], std_devs['sbp'], num_readings)\n",
    "    dbps  = np.random.normal(profile['dbp'], std_devs['dbp'], num_readings)\n",
    "    hrs   = np.random.normal(profile['hr'], std_devs['hr'], num_readings)\n",
    "    generated_data_for_prediction = np.array([temps, sbps, dbps, hrs]).T\n",
    "\n",
    "    display_text = \"Generated 24-Hour Vitals (144 readings):\\n\"\n",
    "    display_text += \"Time | Temp | SBP | DBP | HR\\n\"\n",
    "    display_text += \"---------------------------------\\n\"\n",
    "    for i in range(num_readings):\n",
    "        display_text += f\"t-{143-i:03d} | {temps[i]:.1f} | {sbps[i]:.0f} | {dbps[i]:.0f} | {hrs[i]:.0f}\\n\"\n",
    "    vitals_box.delete(\"1.0\", tk.END)\n",
    "    vitals_box.insert(\"1.0\", display_text)\n",
    "    predict_button.config(state=\"normal\")\n"
   ]
  },
  {
   "cell_type": "code",
   "execution_count": null,
   "id": "ba4f066e",
   "metadata": {},
   "outputs": [],
   "source": [
    "\n",
    "def run_prediction():\n",
    "    if generated_data_for_prediction is None:\n",
    "        messagebox.showerror(\"Error\",\"Please generate patient data first.\")\n",
    "        return\n",
    "    padding_needed = timesteps_per_patient - len(generated_data_for_prediction)\n",
    "    padding = np.tile(generated_data_for_prediction[0], (padding_needed, 1))\n",
    "    full_sequence = np.vstack([padding, generated_data_for_prediction])\n",
    "    scaled_sequence = scaler.transform(full_sequence)\n",
    "    reshaped_sequence = scaled_sequence.reshape(1, timesteps_per_patient, num_features)\n",
    "    probabilities = model.predict(reshaped_sequence)[0]\n",
    "    results_with_names = list(zip(class_names, probabilities))\n",
    "    sorted_results = sorted(results_with_names, key=lambda item: item[1], reverse=True)\n",
    "    predicted_class_name = sorted_results[0][0]\n",
    "    confidence = sorted_results[0][1]\n",
    "\n",
    "    result_text = f\"Final Prediction: {predicted_class_name}\\nConfidence: {confidence:.2%}\\n\"\n",
    "    if confidence < 0.75:\n",
    "        result_text += \"⚠️ Prediction is low confidence. Interpret results with caution.\\n\"\n",
    "    result_text += \"\\nFull Probability Distribution:\\n\"\n",
    "    for label, prob in sorted_results:\n",
    "        result_text += f\"{label.replace('_',' '):<35}: {prob:.2%}\\n\"\n",
    "\n",
    "    result_box.delete(\"1.0\", tk.END)\n",
    "    result_box.insert(\"1.0\", result_text)\n"
   ]
  },
  {
   "cell_type": "markdown",
   "id": "054cc921",
   "metadata": {},
   "source": [
    "## Tkinter GUI code logic"
   ]
  },
  {
   "cell_type": "code",
   "execution_count": null,
   "id": "3dbb3e58",
   "metadata": {},
   "outputs": [],
   "source": [
    "\n",
    "root = tk.Tk()\n",
    "root.title(\"AI Health Status Predictor\")\n",
    "main_frame = ttk.Frame(root, padding=10)\n",
    "main_frame.pack(fill=\"both\", expand=True)\n",
    "\n",
    "controls_frame = ttk.Frame(main_frame)\n",
    "controls_frame.pack(fill=\"x\", pady=5)\n",
    "ttk.Label(controls_frame, text=\"Select Patient Profile:\").pack(side=\"left\", padx=5)\n",
    "profile_combobox = ttk.Combobox(controls_frame, values=list(UI_PROFILES.keys()), width=30, state=\"readonly\")\n",
    "profile_combobox.pack(side=\"left\", padx=5)\n",
    "ttk.Button(controls_frame, text=\"Generate 24-Hour Vitals\", command=generate_vitals_from_profile).pack(side=\"left\", padx=10)\n",
    "\n",
    "vitals_frame = ttk.LabelFrame(main_frame, text=\"Generated Vitals Sequence\", padding=10)\n",
    "vitals_frame.pack(fill=\"both\", expand=True, pady=5)\n",
    "vitals_box = tk.Text(vitals_frame, wrap=\"none\", font=(\"Courier New\", 10), height=10)\n",
    "vitals_scroll_y = ttk.Scrollbar(vitals_frame, orient=\"vertical\", command=vitals_box.yview)\n",
    "vitals_scroll_x = ttk.Scrollbar(vitals_frame, orient=\"horizontal\", command=vitals_box.xview)\n",
    "vitals_box.config(yscrollcommand=vitals_scroll_y.set, xscrollcommand=vitals_scroll_x.set)\n",
    "vitals_scroll_y.pack(side=\"right\", fill=\"y\")\n",
    "vitals_scroll_x.pack(side=\"bottom\", fill=\"x\")\n",
    "vitals_box.pack(side=\"left\", fill=\"both\", expand=True)\n",
    "\n",
    "predict_frame = ttk.Frame(main_frame)\n",
    "predict_frame.pack(fill=\"x\", pady=10)\n",
    "predict_button = ttk.Button(predict_frame, text=\"Run Prediction on Generated Data\", command=run_prediction, state=\"disabled\")\n",
    "predict_button.pack()\n",
    "\n",
    "result_frame = ttk.LabelFrame(main_frame, text=\"Prediction Results\", padding=10)\n",
    "result_frame.pack(fill=\"both\", expand=True, pady=5)\n",
    "result_box = tk.Text(result_frame, wrap=\"word\", font=(\"Courier New\", 11), height=10)\n",
    "result_box.pack(fill=\"both\", expand=True)\n",
    "\n",
    "accuracy_frame = ttk.LabelFrame(main_frame, text=\"Per-Class Accuracy\", padding=10)\n",
    "accuracy_frame.pack(fill=\"both\", expand=True, pady=5)\n",
    "accuracy_box = tk.Text(accuracy_frame, wrap=\"word\", font=(\"Courier New\", 11), height=10)\n",
    "accuracy_box.pack(fill=\"both\", expand=True)\n",
    "accuracy_box.insert(\"1.0\", f\"Overall Test Accuracy: {accuracy*100:.2f}%\\n\\nPer-Class Report:\\n{per_class_report}\")\n",
    "\n",
    "root.mainloop()\n"
   ]
  }
 ],
 "metadata": {
  "language_info": {
   "name": "python"
  }
 },
 "nbformat": 4,
 "nbformat_minor": 5
}
